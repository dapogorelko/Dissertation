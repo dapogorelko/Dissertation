{
 "cells": [
  {
   "cell_type": "code",
   "execution_count": null,
   "id": "d25b71fa",
   "metadata": {},
   "outputs": [],
   "source": [
    "from urllib.request import urlopen\n",
    "import json\n",
    "import pandas as pd\n",
    "import plotly.express as px\n",
    "from jupyter_dash import JupyterDash\n",
    "from dash import html, Input, Output, dcc, dash_table\n",
    "import random"
   ]
  },
  {
   "cell_type": "code",
   "execution_count": null,
   "id": "0424faba",
   "metadata": {},
   "outputs": [],
   "source": [
    "url = 'https://raw.githubusercontent.com/codeforamerica/click_that_hood/master/public/data/russia.geojson'\n",
    "with urlopen(url) as response:\n",
    "    counties = json.load(response)"
   ]
  },
  {
   "cell_type": "code",
   "execution_count": null,
   "id": "ff9b2bfa",
   "metadata": {},
   "outputs": [],
   "source": [
    "df = pd.read_excel('mydata1.xlsx', sheet_name='Data')\n",
    "topop = ['IRA_1','IRA_2','INV_1','INV_2','INV_3','LUJ_2','LUJ_4','GUL_2','DES_1']\n",
    "for s in topop:\n",
    "    df[s] = df[s]/df['Population']/100\n",
    "df['GUL_1'] = 1/df['GUL_1']\n",
    "df.describe()"
   ]
  },
  {
   "cell_type": "code",
   "execution_count": null,
   "id": "fc7c2a6e",
   "metadata": {},
   "outputs": [],
   "source": [
    "variables = ['AVA_1', 'AVA_2', 'AVA_3', 'IRA_1', 'IRA_2',\n",
    "       'INV_1', 'INV_2', 'INV_3', 'LUJ_1', 'LUJ_2', 'LUJ_3', 'LUJ_4',\n",
    "       'GUL_1', 'GUL_2', 'GUL_3', 'DES_1', 'DES_2']"
   ]
  },
  {
   "cell_type": "code",
   "execution_count": null,
   "id": "7f764917",
   "metadata": {},
   "outputs": [],
   "source": [
    "scaled_df = df\n",
    "minimum = 0\n",
    "maximum = 0\n",
    "for s in variables:\n",
    "    minimum = min(df[s])*0.95\n",
    "    maximum = max(df[s])*1.05\n",
    "    scaled_df[s] = (df[s] - minimum)/(maximum - minimum)\n",
    "scaled_df.describe()"
   ]
  },
  {
   "cell_type": "code",
   "execution_count": null,
   "id": "8a0b489b",
   "metadata": {},
   "outputs": [],
   "source": [
    "from sklearn import preprocessing\n",
    "scaler = preprocessing.MinMaxScaler()\n",
    "df_number = df.drop(labels = ['name','Population','id'],axis = 1)\n",
    "d = scaler.fit_transform(df_number)\n",
    "scaled2_df = pd.DataFrame(d, columns=df_number.columns.values)\n",
    "scaled2_df.insert(0,'name',df['name'])\n",
    "scaled2_df.insert(1,'id',df['id'])\n",
    "scaled2_df.describe()"
   ]
  },
  {
   "cell_type": "code",
   "execution_count": null,
   "id": "3ccf6584",
   "metadata": {
    "scrolled": true
   },
   "outputs": [],
   "source": [
    "sins = ['name','Жадность','Зависть','Гнев','Похоть','Чревоугодие','Уныние','Гордыня']\n",
    "sins_df = pd.DataFrame(columns=sins)\n",
    "sins_df['name'] = df['name']\n",
    "sins_df['Жадность'] = (scaled_df['AVA_1']*scaled_df['AVA_2']*scaled_df['AVA_3'])**(1/3)\n",
    "sins_df['Зависть'] = (scaled_df['INV_1']*scaled_df['INV_2']*scaled_df['INV_3'])**(1/3)\n",
    "sins_df['Гнев'] = (scaled_df['IRA_1']*scaled_df['IRA_2'])**(1/2)\n",
    "sins_df['Похоть'] = (scaled_df['LUJ_1']*scaled_df['LUJ_2']*scaled_df['LUJ_3']*scaled_df['LUJ_4'])**(1/4)\n",
    "sins_df['Чревоугодие'] = (scaled_df['GUL_1']*scaled_df['GUL_2']*scaled_df['GUL_3'])**(1/3)\n",
    "sins_df['Уныние'] = (scaled_df['DES_1']*scaled_df['DES_2'])**(1/2)\n",
    "sins_df['Гордыня'] = (sins_df['Жадность']*sins_df['Зависть']*sins_df['Гнев']*sins_df['Похоть']*sins_df['Чревоугодие']*sins_df['Уныние'])**(1/6)\n",
    "sins_df.sort_values(by = ['Гордыня'],ascending=True).head(10)"
   ]
  },
  {
   "cell_type": "code",
   "execution_count": null,
   "id": "cd2842cf",
   "metadata": {},
   "outputs": [],
   "source": [
    "colors = ['']*7\n",
    "for i in range(6):\n",
    "    colors[i] = str(input())\n",
    "colors[6] = 'Plotly3'"
   ]
  },
  {
   "cell_type": "code",
   "execution_count": null,
   "id": "358b12a7",
   "metadata": {},
   "outputs": [],
   "source": [
    "k = 0\n",
    "for s in sins[1:]:\n",
    "    color1 = colors[k]\n",
    "    k += 1\n",
    "    fig = px.choropleth_mapbox(sins_df, geojson = counties, locations = 'name',\n",
    "    color= s,\n",
    "    height = 600,\n",
    "    width = 900,\n",
    "    featureidkey='properties.name',\n",
    "    mapbox_style=\"carto-darkmatter\",\n",
    "    zoom=1.5,\n",
    "    center = {\"lat\": 70, \"lon\": 108},\n",
    "    color_continuous_scale = color1)\n",
    "    #fig.show()\n",
    "    fig.write_html(f\"{s}.html\")\n",
    "    fig.write_image(f\"{s}.png\")"
   ]
  },
  {
   "cell_type": "code",
   "execution_count": null,
   "id": "f20f2a62",
   "metadata": {
    "scrolled": true
   },
   "outputs": [],
   "source": [
    "app = JupyterDash(__name__)\n",
    "app.layout = html.Div(\n",
    "                      [\n",
    "                        html.H2(\"Жадность\", style={'text-align': 'center'}),\n",
    "                        dcc.Graph(figure=fig, id='name')\n",
    "                      ]\n",
    "                     )\n",
    "app.run_server(mode='jupyterlab', port = 8080, dev_tools_ui=True, debug=True,\n",
    "              dev_tools_hot_reload =True, threaded=True)"
   ]
  },
  {
   "cell_type": "code",
   "execution_count": null,
   "id": "ec23ef9d",
   "metadata": {},
   "outputs": [],
   "source": [
    "for s in sins[1:]:\n",
    "    sins_df.sort_values(by = s,ascending=True).head(5).to_excel(f\"{s}_top5.xlsx\")\n",
    "    sins_df.sort_values(by = s,ascending=False).head(5).to_excel(f\"{s}_antitop5.xlsx\")"
   ]
  }
 ],
 "metadata": {
  "kernelspec": {
   "display_name": "Python 3 (ipykernel)",
   "language": "python",
   "name": "python3"
  },
  "language_info": {
   "codemirror_mode": {
    "name": "ipython",
    "version": 3
   },
   "file_extension": ".py",
   "mimetype": "text/x-python",
   "name": "python",
   "nbconvert_exporter": "python",
   "pygments_lexer": "ipython3",
   "version": "3.11.5"
  }
 },
 "nbformat": 4,
 "nbformat_minor": 5
}
